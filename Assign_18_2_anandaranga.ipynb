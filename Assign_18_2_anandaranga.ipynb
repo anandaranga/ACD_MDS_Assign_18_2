{
 "cells": [
  {
   "cell_type": "markdown",
   "metadata": {},
   "source": [
    "## Assignment 18.2\n",
    "### ACD MDS (Mar 2018 batch) Student: K. Anandaranga "
   ]
  },
  {
   "cell_type": "code",
   "execution_count": 1,
   "metadata": {},
   "outputs": [],
   "source": [
    "#Problem Statement 1:\n",
    "\n",
    "# In one state, 52% of the voters are Republicans, and 48% are Democrats. \n",
    "# In a second state, 47% of the voters are Republicans, and 53% are Democrats\n",
    "# Suppose a simple random sample of 100 voters are surveyed from each state.\n",
    "# What is the probability that the survey will show a greater percentage of Republican\n",
    "# voters in the second state than in the first state?"
   ]
  },
  {
   "cell_type": "code",
   "execution_count": 38,
   "metadata": {},
   "outputs": [
    {
     "name": "stdout",
     "output_type": "stream",
     "text": [
      "Z-Value = 0.7071, Probability of R2 > R1 = 0.2397\n",
      "Z-Value = 0.7071,Probability of R2 = R1 is 0.4795\n",
      "Z-Value = 0.7071,Probability of R2 < R1 = 0.7603\n"
     ]
    }
   ],
   "source": [
    "# This is 2 sample z-test on proportion\n",
    "# H0 : Percent of Republican voters in second state and first state are same (R1 = R2)\n",
    "# H1 : Percent of Republican voters in second state is GREATER than first state (R2 > R1 or R1 < R2)\n",
    "\n",
    "import numpy as np\n",
    "from statsmodels.stats.proportion import proportions_ztest\n",
    "\n",
    "count = np.array([52, 47]) # R1 = 52%, R2 = 47%\n",
    "nobs = np.array ([100, 100]) # Assuming 100 people in each sample size\n",
    "value = 0  # R1- R2 = 0\n",
    "\n",
    "stat1, pval1 = proportions_ztest(count, nobs, value, alternative = 'larger') \n",
    "print('Z-Value = {:0.4f}, Probability of R2 > R1 = {:0.4f}'.format(stat1, pval1))\n",
    "\n",
    "stat2, pval2 = proportions_ztest(count, nobs, value, alternative = 'two-sided') \n",
    "print('Z-Value = {:0.4f},Probability of R2 = R1 is {:0.4f}'.format(stat2, pval2))\n",
    "\n",
    "stat3, pval3 = proportions_ztest(count, nobs, value, alternative = 'smaller')  \n",
    "print('Z-Value = {:0.4f},Probability of R2 < R1 = {:0.4f}'.format(stat3, pval3))\n",
    "\n"
   ]
  },
  {
   "cell_type": "code",
   "execution_count": null,
   "metadata": {},
   "outputs": [],
   "source": []
  }
 ],
 "metadata": {
  "kernelspec": {
   "display_name": "Python 3",
   "language": "python",
   "name": "python3"
  },
  "language_info": {
   "codemirror_mode": {
    "name": "ipython",
    "version": 3
   },
   "file_extension": ".py",
   "mimetype": "text/x-python",
   "name": "python",
   "nbconvert_exporter": "python",
   "pygments_lexer": "ipython3",
   "version": "3.6.1"
  }
 },
 "nbformat": 4,
 "nbformat_minor": 2
}
